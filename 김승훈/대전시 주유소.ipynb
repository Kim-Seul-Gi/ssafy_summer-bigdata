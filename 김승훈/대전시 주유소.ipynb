{
 "cells": [
  {
   "cell_type": "markdown",
   "metadata": {},
   "source": [
    "# 대전시 주유소 가격 정보"
   ]
  },
  {
   "cell_type": "code",
   "execution_count": 2,
   "metadata": {},
   "outputs": [],
   "source": [
    "from selenium import webdriver"
   ]
  },
  {
   "cell_type": "code",
   "execution_count": 17,
   "metadata": {},
   "outputs": [],
   "source": [
    "driver = webdriver.Chrome('../driver/chromedriver')\n",
    "driver.get(\"http://www.opinet.co.kr/searRgSelect.do\")\n",
    "driver.get(\"http://www.opinet.co.kr/searRgSelect.do\")"
   ]
  },
  {
   "cell_type": "code",
   "execution_count": 4,
   "metadata": {},
   "outputs": [],
   "source": [
    "gu_list_raw = driver.find_element_by_xpath('//*[@id=\"SIGUNGU_NM0\"]')\n",
    "gu_list = gu_list_raw.find_elements_by_tag_name(\"option\")"
   ]
  },
  {
   "cell_type": "code",
   "execution_count": 5,
   "metadata": {},
   "outputs": [
    {
     "data": {
      "text/plain": [
       "['대덕구', '동구', '서구', '유성구', '중구']"
      ]
     },
     "execution_count": 5,
     "metadata": {},
     "output_type": "execute_result"
    }
   ],
   "source": [
    "gu_names = [option.get_attribute(\"value\") for option in gu_list]\n",
    "gu_names.remove('')\n",
    "gu_names"
   ]
  },
  {
   "cell_type": "code",
   "execution_count": 8,
   "metadata": {},
   "outputs": [],
   "source": [
    "element = driver.find_element_by_id(\"SIGUNGU_NM0\")\n",
    "element.send_keys(gu_names[0])"
   ]
  },
  {
   "cell_type": "code",
   "execution_count": 9,
   "metadata": {},
   "outputs": [],
   "source": [
    "xpath = '//*[@id=\"searRgSelect\"]'\n",
    "element_sel_gu = driver.find_element_by_xpath(xpath).click()"
   ]
  },
  {
   "cell_type": "code",
   "execution_count": 10,
   "metadata": {},
   "outputs": [],
   "source": [
    "xpath = '//*[@id=\"glopopd_excel\"]'\n",
    "element_get_excel = driver.find_element_by_xpath(xpath).click()"
   ]
  },
  {
   "cell_type": "code",
   "execution_count": 24,
   "metadata": {},
   "outputs": [
    {
     "data": {
      "application/vnd.jupyter.widget-view+json": {
       "model_id": "b3b548c4d3c94a56acec7d456f530468",
       "version_major": 2,
       "version_minor": 0
      },
      "text/plain": [
       "HBox(children=(IntProgress(value=0, max=5), HTML(value='')))"
      ]
     },
     "metadata": {},
     "output_type": "display_data"
    },
    {
     "name": "stdout",
     "output_type": "stream",
     "text": [
      "\n"
     ]
    }
   ],
   "source": [
    "import time\n",
    "from tqdm import tqdm_notebook\n",
    "\n",
    "for gu in tqdm_notebook(gu_names):\n",
    "    element = driver.find_element_by_id(\"SIGUNGU_NM0\")\n",
    "    element.send_keys(gu)\n",
    "    \n",
    "    time.sleep(2)\n",
    "    \n",
    "    xpath = '//*[@id=\"searRgSelect\"]'\n",
    "    element_sel_gu = driver.find_element_by_xpath(xpath).click()\n",
    "    \n",
    "    time.sleep(1)\n",
    "    \n",
    "    xpath = '//*[@id=\"glopopd_excel\"]'\n",
    "    element_get_excel = driver.find_element_by_xpath(xpath).click()\n",
    "    \n",
    "    time.sleep(1)"
   ]
  },
  {
   "cell_type": "code",
   "execution_count": 12,
   "metadata": {},
   "outputs": [],
   "source": [
    "driver.close()"
   ]
  },
  {
   "cell_type": "markdown",
   "metadata": {},
   "source": [
    "# 구별 주유 가격 데이터 정리"
   ]
  },
  {
   "cell_type": "code",
   "execution_count": 13,
   "metadata": {},
   "outputs": [],
   "source": [
    "import pandas as pd\n",
    "from glob import glob"
   ]
  },
  {
   "cell_type": "code",
   "execution_count": 25,
   "metadata": {},
   "outputs": [
    {
     "data": {
      "text/plain": [
       "['../data\\\\대전지역_위치별(주유소) (30).xls',\n",
       " '../data\\\\대전지역_위치별(주유소) (31).xls',\n",
       " '../data\\\\대전지역_위치별(주유소) (32).xls',\n",
       " '../data\\\\대전지역_위치별(주유소) (33).xls',\n",
       " '../data\\\\대전지역_위치별(주유소) (34).xls']"
      ]
     },
     "execution_count": 25,
     "metadata": {},
     "output_type": "execute_result"
    }
   ],
   "source": [
    "glob('../data/대전지역*.xls')"
   ]
  },
  {
   "cell_type": "code",
   "execution_count": 26,
   "metadata": {},
   "outputs": [
    {
     "data": {
      "text/plain": [
       "['../data\\\\대전지역_위치별(주유소) (30).xls',\n",
       " '../data\\\\대전지역_위치별(주유소) (31).xls',\n",
       " '../data\\\\대전지역_위치별(주유소) (32).xls',\n",
       " '../data\\\\대전지역_위치별(주유소) (33).xls',\n",
       " '../data\\\\대전지역_위치별(주유소) (34).xls']"
      ]
     },
     "execution_count": 26,
     "metadata": {},
     "output_type": "execute_result"
    }
   ],
   "source": [
    "stations_files = glob('../data/대전지역*.xls')\n",
    "stations_files"
   ]
  },
  {
   "cell_type": "code",
   "execution_count": 27,
   "metadata": {},
   "outputs": [],
   "source": [
    "tmp_raw = []\n",
    "\n",
    "for file_name in stations_files:\n",
    "    tmp = pd.read_excel(file_name, header=2)\n",
    "    tmp_raw.append(tmp)\n",
    "    \n",
    "station_raw = pd.concat(tmp_raw)"
   ]
  },
  {
   "cell_type": "code",
   "execution_count": 28,
   "metadata": {
    "scrolled": true
   },
   "outputs": [
    {
     "name": "stdout",
     "output_type": "stream",
     "text": [
      "<class 'pandas.core.frame.DataFrame'>\n",
      "Int64Index: 241 entries, 0 to 59\n",
      "Data columns (total 10 columns):\n",
      "지역       241 non-null object\n",
      "상호       241 non-null object\n",
      "주소       241 non-null object\n",
      "상표       241 non-null object\n",
      "전화번호     241 non-null object\n",
      "셀프여부     241 non-null object\n",
      "고급휘발유    241 non-null object\n",
      "휘발유      241 non-null object\n",
      "경유       241 non-null object\n",
      "실내등유     241 non-null object\n",
      "dtypes: object(10)\n",
      "memory usage: 20.7+ KB\n"
     ]
    }
   ],
   "source": [
    "station_raw.info()"
   ]
  },
  {
   "cell_type": "code",
   "execution_count": 32,
   "metadata": {},
   "outputs": [
    {
     "data": {
      "text/html": [
       "<div>\n",
       "<style scoped>\n",
       "    .dataframe tbody tr th:only-of-type {\n",
       "        vertical-align: middle;\n",
       "    }\n",
       "\n",
       "    .dataframe tbody tr th {\n",
       "        vertical-align: top;\n",
       "    }\n",
       "\n",
       "    .dataframe thead th {\n",
       "        text-align: right;\n",
       "    }\n",
       "</style>\n",
       "<table border=\"1\" class=\"dataframe\">\n",
       "  <thead>\n",
       "    <tr style=\"text-align: right;\">\n",
       "      <th></th>\n",
       "      <th>지역</th>\n",
       "      <th>상호</th>\n",
       "      <th>주소</th>\n",
       "      <th>상표</th>\n",
       "      <th>전화번호</th>\n",
       "      <th>셀프여부</th>\n",
       "      <th>고급휘발유</th>\n",
       "      <th>휘발유</th>\n",
       "      <th>경유</th>\n",
       "      <th>실내등유</th>\n",
       "    </tr>\n",
       "  </thead>\n",
       "  <tbody>\n",
       "    <tr>\n",
       "      <th>0</th>\n",
       "      <td>대전광역시</td>\n",
       "      <td>소망주유소</td>\n",
       "      <td>대전 중구 보문산로 307 (문화동)</td>\n",
       "      <td>GS칼텍스</td>\n",
       "      <td>042-584-0413</td>\n",
       "      <td>Y</td>\n",
       "      <td>-</td>\n",
       "      <td>1495</td>\n",
       "      <td>1355</td>\n",
       "      <td>-</td>\n",
       "    </tr>\n",
       "    <tr>\n",
       "      <th>1</th>\n",
       "      <td>대전광역시</td>\n",
       "      <td>천지인주유소</td>\n",
       "      <td>대전 중구 대종로 44 (옥계동)</td>\n",
       "      <td>자가상표</td>\n",
       "      <td>042-272-6100</td>\n",
       "      <td>Y</td>\n",
       "      <td>-</td>\n",
       "      <td>1497</td>\n",
       "      <td>1357</td>\n",
       "      <td>930</td>\n",
       "    </tr>\n",
       "    <tr>\n",
       "      <th>2</th>\n",
       "      <td>대전광역시</td>\n",
       "      <td>(주)석교주유소</td>\n",
       "      <td>대전 중구 대종로 207 (석교동)</td>\n",
       "      <td>SK에너지</td>\n",
       "      <td>042-273-7755</td>\n",
       "      <td>Y</td>\n",
       "      <td>-</td>\n",
       "      <td>1498</td>\n",
       "      <td>1359</td>\n",
       "      <td>-</td>\n",
       "    </tr>\n",
       "    <tr>\n",
       "      <th>3</th>\n",
       "      <td>대전광역시</td>\n",
       "      <td>진성주유소</td>\n",
       "      <td>대전광역시 중구  대종로 122 (호동)</td>\n",
       "      <td>SK에너지</td>\n",
       "      <td>042-271-8511</td>\n",
       "      <td>Y</td>\n",
       "      <td>-</td>\n",
       "      <td>1498</td>\n",
       "      <td>1367</td>\n",
       "      <td>990</td>\n",
       "    </tr>\n",
       "    <tr>\n",
       "      <th>4</th>\n",
       "      <td>대전광역시</td>\n",
       "      <td>이화주유소</td>\n",
       "      <td>대전 중구 대종로 166 (석교동)</td>\n",
       "      <td>SK에너지</td>\n",
       "      <td>042-274-5189</td>\n",
       "      <td>N</td>\n",
       "      <td>-</td>\n",
       "      <td>1499</td>\n",
       "      <td>1369</td>\n",
       "      <td>950</td>\n",
       "    </tr>\n",
       "  </tbody>\n",
       "</table>\n",
       "</div>"
      ],
      "text/plain": [
       "      지역        상호                      주소     상표          전화번호 셀프여부 고급휘발유  \\\n",
       "0  대전광역시     소망주유소    대전 중구 보문산로 307 (문화동)  GS칼텍스  042-584-0413    Y     -   \n",
       "1  대전광역시    천지인주유소      대전 중구 대종로 44 (옥계동)   자가상표  042-272-6100    Y     -   \n",
       "2  대전광역시  (주)석교주유소     대전 중구 대종로 207 (석교동)  SK에너지  042-273-7755    Y     -   \n",
       "3  대전광역시     진성주유소  대전광역시 중구  대종로 122 (호동)  SK에너지  042-271-8511    Y     -   \n",
       "4  대전광역시     이화주유소     대전 중구 대종로 166 (석교동)  SK에너지  042-274-5189    N     -   \n",
       "\n",
       "    휘발유    경유 실내등유  \n",
       "0  1495  1355    -  \n",
       "1  1497  1357  930  \n",
       "2  1498  1359    -  \n",
       "3  1498  1367  990  \n",
       "4  1499  1369  950  "
      ]
     },
     "execution_count": 32,
     "metadata": {},
     "output_type": "execute_result"
    }
   ],
   "source": [
    "station_raw.head()"
   ]
  },
  {
   "cell_type": "code",
   "execution_count": 34,
   "metadata": {},
   "outputs": [
    {
     "data": {
      "text/html": [
       "<div>\n",
       "<style scoped>\n",
       "    .dataframe tbody tr th:only-of-type {\n",
       "        vertical-align: middle;\n",
       "    }\n",
       "\n",
       "    .dataframe tbody tr th {\n",
       "        vertical-align: top;\n",
       "    }\n",
       "\n",
       "    .dataframe thead th {\n",
       "        text-align: right;\n",
       "    }\n",
       "</style>\n",
       "<table border=\"1\" class=\"dataframe\">\n",
       "  <thead>\n",
       "    <tr style=\"text-align: right;\">\n",
       "      <th></th>\n",
       "      <th>Oil_store</th>\n",
       "      <th>가격</th>\n",
       "      <th>상표</th>\n",
       "      <th>셀프</th>\n",
       "      <th>주소</th>\n",
       "    </tr>\n",
       "  </thead>\n",
       "  <tbody>\n",
       "    <tr>\n",
       "      <th>0</th>\n",
       "      <td>소망주유소</td>\n",
       "      <td>1495</td>\n",
       "      <td>GS칼텍스</td>\n",
       "      <td>Y</td>\n",
       "      <td>대전 중구 보문산로 307 (문화동)</td>\n",
       "    </tr>\n",
       "    <tr>\n",
       "      <th>1</th>\n",
       "      <td>천지인주유소</td>\n",
       "      <td>1497</td>\n",
       "      <td>자가상표</td>\n",
       "      <td>Y</td>\n",
       "      <td>대전 중구 대종로 44 (옥계동)</td>\n",
       "    </tr>\n",
       "    <tr>\n",
       "      <th>2</th>\n",
       "      <td>(주)석교주유소</td>\n",
       "      <td>1498</td>\n",
       "      <td>SK에너지</td>\n",
       "      <td>Y</td>\n",
       "      <td>대전 중구 대종로 207 (석교동)</td>\n",
       "    </tr>\n",
       "    <tr>\n",
       "      <th>3</th>\n",
       "      <td>진성주유소</td>\n",
       "      <td>1498</td>\n",
       "      <td>SK에너지</td>\n",
       "      <td>Y</td>\n",
       "      <td>대전광역시 중구  대종로 122 (호동)</td>\n",
       "    </tr>\n",
       "    <tr>\n",
       "      <th>4</th>\n",
       "      <td>이화주유소</td>\n",
       "      <td>1499</td>\n",
       "      <td>SK에너지</td>\n",
       "      <td>N</td>\n",
       "      <td>대전 중구 대종로 166 (석교동)</td>\n",
       "    </tr>\n",
       "  </tbody>\n",
       "</table>\n",
       "</div>"
      ],
      "text/plain": [
       "  Oil_store    가격     상표 셀프                      주소\n",
       "0     소망주유소  1495  GS칼텍스  Y    대전 중구 보문산로 307 (문화동)\n",
       "1    천지인주유소  1497   자가상표  Y      대전 중구 대종로 44 (옥계동)\n",
       "2  (주)석교주유소  1498  SK에너지  Y     대전 중구 대종로 207 (석교동)\n",
       "3     진성주유소  1498  SK에너지  Y  대전광역시 중구  대종로 122 (호동)\n",
       "4     이화주유소  1499  SK에너지  N     대전 중구 대종로 166 (석교동)"
      ]
     },
     "execution_count": 34,
     "metadata": {},
     "output_type": "execute_result"
    }
   ],
   "source": [
    "stations = pd.DataFrame({'Oil_store':station_raw['상호'],\n",
    "                        '가격':station_raw['휘발유'],\n",
    "                        '상표':station_raw['상표'],\n",
    "                        '셀프':station_raw['셀프여부'],\n",
    "                        '주소':station_raw['주소']})\n",
    "stations.head()"
   ]
  },
  {
   "cell_type": "code",
   "execution_count": 48,
   "metadata": {},
   "outputs": [
    {
     "data": {
      "text/html": [
       "<div>\n",
       "<style scoped>\n",
       "    .dataframe tbody tr th:only-of-type {\n",
       "        vertical-align: middle;\n",
       "    }\n",
       "\n",
       "    .dataframe tbody tr th {\n",
       "        vertical-align: top;\n",
       "    }\n",
       "\n",
       "    .dataframe thead th {\n",
       "        text-align: right;\n",
       "    }\n",
       "</style>\n",
       "<table border=\"1\" class=\"dataframe\">\n",
       "  <thead>\n",
       "    <tr style=\"text-align: right;\">\n",
       "      <th></th>\n",
       "      <th>Oil_store</th>\n",
       "      <th>가격</th>\n",
       "      <th>상표</th>\n",
       "      <th>셀프</th>\n",
       "      <th>주소</th>\n",
       "      <th>구</th>\n",
       "    </tr>\n",
       "  </thead>\n",
       "  <tbody>\n",
       "    <tr>\n",
       "      <th>0</th>\n",
       "      <td>소망주유소</td>\n",
       "      <td>1495</td>\n",
       "      <td>GS칼텍스</td>\n",
       "      <td>Y</td>\n",
       "      <td>대전 중구 보문산로 307 (문화동)</td>\n",
       "      <td>중구</td>\n",
       "    </tr>\n",
       "    <tr>\n",
       "      <th>1</th>\n",
       "      <td>천지인주유소</td>\n",
       "      <td>1497</td>\n",
       "      <td>자가상표</td>\n",
       "      <td>Y</td>\n",
       "      <td>대전 중구 대종로 44 (옥계동)</td>\n",
       "      <td>중구</td>\n",
       "    </tr>\n",
       "    <tr>\n",
       "      <th>2</th>\n",
       "      <td>(주)석교주유소</td>\n",
       "      <td>1498</td>\n",
       "      <td>SK에너지</td>\n",
       "      <td>Y</td>\n",
       "      <td>대전 중구 대종로 207 (석교동)</td>\n",
       "      <td>중구</td>\n",
       "    </tr>\n",
       "    <tr>\n",
       "      <th>3</th>\n",
       "      <td>진성주유소</td>\n",
       "      <td>1498</td>\n",
       "      <td>SK에너지</td>\n",
       "      <td>Y</td>\n",
       "      <td>대전광역시 중구  대종로 122 (호동)</td>\n",
       "      <td>중구</td>\n",
       "    </tr>\n",
       "    <tr>\n",
       "      <th>4</th>\n",
       "      <td>이화주유소</td>\n",
       "      <td>1499</td>\n",
       "      <td>SK에너지</td>\n",
       "      <td>N</td>\n",
       "      <td>대전 중구 대종로 166 (석교동)</td>\n",
       "      <td>중구</td>\n",
       "    </tr>\n",
       "  </tbody>\n",
       "</table>\n",
       "</div>"
      ],
      "text/plain": [
       "  Oil_store    가격     상표 셀프                      주소   구\n",
       "0     소망주유소  1495  GS칼텍스  Y    대전 중구 보문산로 307 (문화동)  중구\n",
       "1    천지인주유소  1497   자가상표  Y      대전 중구 대종로 44 (옥계동)  중구\n",
       "2  (주)석교주유소  1498  SK에너지  Y     대전 중구 대종로 207 (석교동)  중구\n",
       "3     진성주유소  1498  SK에너지  Y  대전광역시 중구  대종로 122 (호동)  중구\n",
       "4     이화주유소  1499  SK에너지  N     대전 중구 대종로 166 (석교동)  중구"
      ]
     },
     "execution_count": 48,
     "metadata": {},
     "output_type": "execute_result"
    }
   ],
   "source": [
    "stations['구'] = [eachAddress.split()[1] for eachAddress in stations['주소']]\n",
    "stations.head()"
   ]
  },
  {
   "cell_type": "code",
   "execution_count": 38,
   "metadata": {},
   "outputs": [
    {
     "data": {
      "text/plain": [
       "array(['중구', '광역시', '대덕구', '동구', '서구', '유성구'], dtype=object)"
      ]
     },
     "execution_count": 38,
     "metadata": {},
     "output_type": "execute_result"
    }
   ],
   "source": [
    "stations['구'].unique()"
   ]
  },
  {
   "cell_type": "code",
   "execution_count": 39,
   "metadata": {},
   "outputs": [
    {
     "data": {
      "text/html": [
       "<div>\n",
       "<style scoped>\n",
       "    .dataframe tbody tr th:only-of-type {\n",
       "        vertical-align: middle;\n",
       "    }\n",
       "\n",
       "    .dataframe tbody tr th {\n",
       "        vertical-align: top;\n",
       "    }\n",
       "\n",
       "    .dataframe thead th {\n",
       "        text-align: right;\n",
       "    }\n",
       "</style>\n",
       "<table border=\"1\" class=\"dataframe\">\n",
       "  <thead>\n",
       "    <tr style=\"text-align: right;\">\n",
       "      <th></th>\n",
       "      <th>Oil_store</th>\n",
       "      <th>가격</th>\n",
       "      <th>상표</th>\n",
       "      <th>셀프</th>\n",
       "      <th>주소</th>\n",
       "      <th>구</th>\n",
       "    </tr>\n",
       "  </thead>\n",
       "  <tbody>\n",
       "    <tr>\n",
       "      <th>16</th>\n",
       "      <td>도서관주유소</td>\n",
       "      <td>1515</td>\n",
       "      <td>현대오일뱅크</td>\n",
       "      <td>Y</td>\n",
       "      <td>대전 광역시 중구 보문산로 353</td>\n",
       "      <td>광역시</td>\n",
       "    </tr>\n",
       "  </tbody>\n",
       "</table>\n",
       "</div>"
      ],
      "text/plain": [
       "   Oil_store    가격      상표 셀프                  주소    구\n",
       "16    도서관주유소  1515  현대오일뱅크  Y  대전 광역시 중구 보문산로 353  광역시"
      ]
     },
     "execution_count": 39,
     "metadata": {},
     "output_type": "execute_result"
    }
   ],
   "source": [
    "stations[stations['구']=='광역시']"
   ]
  },
  {
   "cell_type": "code",
   "execution_count": 49,
   "metadata": {},
   "outputs": [
    {
     "data": {
      "text/plain": [
       "array(['중구', '대덕구', '동구', '서구', '유성구'], dtype=object)"
      ]
     },
     "execution_count": 49,
     "metadata": {},
     "output_type": "execute_result"
    }
   ],
   "source": [
    "stations.loc[stations['구']=='광역시', '구'] = '중구'\n",
    "stations['구'].unique()"
   ]
  },
  {
   "cell_type": "code",
   "execution_count": 50,
   "metadata": {},
   "outputs": [
    {
     "data": {
      "text/html": [
       "<div>\n",
       "<style scoped>\n",
       "    .dataframe tbody tr th:only-of-type {\n",
       "        vertical-align: middle;\n",
       "    }\n",
       "\n",
       "    .dataframe tbody tr th {\n",
       "        vertical-align: top;\n",
       "    }\n",
       "\n",
       "    .dataframe thead th {\n",
       "        text-align: right;\n",
       "    }\n",
       "</style>\n",
       "<table border=\"1\" class=\"dataframe\">\n",
       "  <thead>\n",
       "    <tr style=\"text-align: right;\">\n",
       "      <th></th>\n",
       "      <th>Oil_store</th>\n",
       "      <th>가격</th>\n",
       "      <th>상표</th>\n",
       "      <th>셀프</th>\n",
       "      <th>주소</th>\n",
       "      <th>구</th>\n",
       "    </tr>\n",
       "  </thead>\n",
       "  <tbody>\n",
       "    <tr>\n",
       "      <th>40</th>\n",
       "      <td>금성주유소</td>\n",
       "      <td>-</td>\n",
       "      <td>S-OIL</td>\n",
       "      <td>Y</td>\n",
       "      <td>대전 중구 동서대로 1183 (태평동)</td>\n",
       "      <td>중구</td>\n",
       "    </tr>\n",
       "    <tr>\n",
       "      <th>46</th>\n",
       "      <td>금강주유소</td>\n",
       "      <td>-</td>\n",
       "      <td>현대오일뱅크</td>\n",
       "      <td>N</td>\n",
       "      <td>대전 서구 갈마로 174 (괴정동)</td>\n",
       "      <td>서구</td>\n",
       "    </tr>\n",
       "    <tr>\n",
       "      <th>59</th>\n",
       "      <td>지에스칼텍스(주)21세기주유소</td>\n",
       "      <td>-</td>\n",
       "      <td>GS칼텍스</td>\n",
       "      <td>N</td>\n",
       "      <td>대전 유성구 유성대로 845 (궁동)</td>\n",
       "      <td>유성구</td>\n",
       "    </tr>\n",
       "  </tbody>\n",
       "</table>\n",
       "</div>"
      ],
      "text/plain": [
       "           Oil_store 가격      상표 셀프                     주소    구\n",
       "40             금성주유소  -   S-OIL  Y  대전 중구 동서대로 1183 (태평동)   중구\n",
       "46             금강주유소  -  현대오일뱅크  N    대전 서구 갈마로 174 (괴정동)   서구\n",
       "59  지에스칼텍스(주)21세기주유소  -   GS칼텍스  N   대전 유성구 유성대로 845 (궁동)  유성구"
      ]
     },
     "execution_count": 50,
     "metadata": {},
     "output_type": "execute_result"
    }
   ],
   "source": [
    "stations[stations['가격']=='-']"
   ]
  },
  {
   "cell_type": "code",
   "execution_count": 51,
   "metadata": {
    "scrolled": false
   },
   "outputs": [
    {
     "data": {
      "text/html": [
       "<div>\n",
       "<style scoped>\n",
       "    .dataframe tbody tr th:only-of-type {\n",
       "        vertical-align: middle;\n",
       "    }\n",
       "\n",
       "    .dataframe tbody tr th {\n",
       "        vertical-align: top;\n",
       "    }\n",
       "\n",
       "    .dataframe thead th {\n",
       "        text-align: right;\n",
       "    }\n",
       "</style>\n",
       "<table border=\"1\" class=\"dataframe\">\n",
       "  <thead>\n",
       "    <tr style=\"text-align: right;\">\n",
       "      <th></th>\n",
       "      <th>Oil_store</th>\n",
       "      <th>가격</th>\n",
       "      <th>상표</th>\n",
       "      <th>셀프</th>\n",
       "      <th>주소</th>\n",
       "      <th>구</th>\n",
       "    </tr>\n",
       "  </thead>\n",
       "  <tbody>\n",
       "    <tr>\n",
       "      <th>0</th>\n",
       "      <td>소망주유소</td>\n",
       "      <td>1495</td>\n",
       "      <td>GS칼텍스</td>\n",
       "      <td>Y</td>\n",
       "      <td>대전 중구 보문산로 307 (문화동)</td>\n",
       "      <td>중구</td>\n",
       "    </tr>\n",
       "    <tr>\n",
       "      <th>1</th>\n",
       "      <td>천지인주유소</td>\n",
       "      <td>1497</td>\n",
       "      <td>자가상표</td>\n",
       "      <td>Y</td>\n",
       "      <td>대전 중구 대종로 44 (옥계동)</td>\n",
       "      <td>중구</td>\n",
       "    </tr>\n",
       "    <tr>\n",
       "      <th>2</th>\n",
       "      <td>(주)석교주유소</td>\n",
       "      <td>1498</td>\n",
       "      <td>SK에너지</td>\n",
       "      <td>Y</td>\n",
       "      <td>대전 중구 대종로 207 (석교동)</td>\n",
       "      <td>중구</td>\n",
       "    </tr>\n",
       "    <tr>\n",
       "      <th>3</th>\n",
       "      <td>진성주유소</td>\n",
       "      <td>1498</td>\n",
       "      <td>SK에너지</td>\n",
       "      <td>Y</td>\n",
       "      <td>대전광역시 중구  대종로 122 (호동)</td>\n",
       "      <td>중구</td>\n",
       "    </tr>\n",
       "    <tr>\n",
       "      <th>4</th>\n",
       "      <td>이화주유소</td>\n",
       "      <td>1499</td>\n",
       "      <td>SK에너지</td>\n",
       "      <td>N</td>\n",
       "      <td>대전 중구 대종로 166 (석교동)</td>\n",
       "      <td>중구</td>\n",
       "    </tr>\n",
       "  </tbody>\n",
       "</table>\n",
       "</div>"
      ],
      "text/plain": [
       "  Oil_store    가격     상표 셀프                      주소   구\n",
       "0     소망주유소  1495  GS칼텍스  Y    대전 중구 보문산로 307 (문화동)  중구\n",
       "1    천지인주유소  1497   자가상표  Y      대전 중구 대종로 44 (옥계동)  중구\n",
       "2  (주)석교주유소  1498  SK에너지  Y     대전 중구 대종로 207 (석교동)  중구\n",
       "3     진성주유소  1498  SK에너지  Y  대전광역시 중구  대종로 122 (호동)  중구\n",
       "4     이화주유소  1499  SK에너지  N     대전 중구 대종로 166 (석교동)  중구"
      ]
     },
     "execution_count": 51,
     "metadata": {},
     "output_type": "execute_result"
    }
   ],
   "source": [
    "stations = stations[stations['가격'] != '-']\n",
    "stations.head()"
   ]
  },
  {
   "cell_type": "code",
   "execution_count": 134,
   "metadata": {
    "scrolled": true
   },
   "outputs": [
    {
     "name": "stderr",
     "output_type": "stream",
     "text": [
      "C:\\Users\\student\\Anaconda3\\lib\\site-packages\\ipykernel_launcher.py:1: SettingWithCopyWarning: \n",
      "A value is trying to be set on a copy of a slice from a DataFrame.\n",
      "Try using .loc[row_indexer,col_indexer] = value instead\n",
      "\n",
      "See the caveats in the documentation: http://pandas.pydata.org/pandas-docs/stable/indexing.html#indexing-view-versus-copy\n",
      "  \"\"\"Entry point for launching an IPython kernel.\n"
     ]
    }
   ],
   "source": [
    "stations['가격'] = [float(value) for value in stations['가격']]"
   ]
  },
  {
   "cell_type": "code",
   "execution_count": 135,
   "metadata": {},
   "outputs": [],
   "source": [
    "stations.reset_index(inplace=True)\n",
    "del stations['index']"
   ]
  },
  {
   "cell_type": "code",
   "execution_count": 136,
   "metadata": {
    "scrolled": true
   },
   "outputs": [
    {
     "data": {
      "text/plain": [
       "array([1495., 1497., 1498., 1499., 1504., 1505., 1506., 1509., 1510.,\n",
       "       1514., 1515., 1517., 1519., 1525., 1528., 1529., 1535., 1547.,\n",
       "       1549., 1554., 1559., 1560., 1565., 1570., 1575., 1579., 1595.,\n",
       "       1598., 1609., 1513., 1518., 1524., 1527., 1534., 1537., 1538.,\n",
       "       1539., 1545., 1555., 1558., 1569., 1578., 1588., 1589., 1599.,\n",
       "       1625., 1635., 1649., 1687., 1695., 1863., 1503., 1508., 1516.,\n",
       "       1576., 1639., 1683., 1487., 1489., 1491., 1493., 1494., 1530.,\n",
       "       1544., 1557., 1577., 1585., 1587., 1597., 1628., 1799., 1490.,\n",
       "       1492., 1522., 1531., 1548., 1568., 1659., 1699.])"
      ]
     },
     "execution_count": 136,
     "metadata": {},
     "output_type": "execute_result"
    }
   ],
   "source": [
    "stations['가격'].unique()"
   ]
  },
  {
   "cell_type": "code",
   "execution_count": 137,
   "metadata": {},
   "outputs": [
    {
     "name": "stdout",
     "output_type": "stream",
     "text": [
      "<class 'pandas.core.frame.DataFrame'>\n",
      "RangeIndex: 238 entries, 0 to 237\n",
      "Data columns (total 6 columns):\n",
      "Oil_store    238 non-null object\n",
      "가격           238 non-null float64\n",
      "상표           238 non-null object\n",
      "셀프           238 non-null object\n",
      "주소           238 non-null object\n",
      "구            238 non-null object\n",
      "dtypes: float64(1), object(5)\n",
      "memory usage: 11.2+ KB\n"
     ]
    }
   ],
   "source": [
    "stations.info()"
   ]
  },
  {
   "cell_type": "markdown",
   "metadata": {},
   "source": [
    "# 셀프 주유소와 일반 주유소 비교"
   ]
  },
  {
   "cell_type": "code",
   "execution_count": 138,
   "metadata": {},
   "outputs": [],
   "source": [
    "import matplotlib.pyplot as plt\n",
    "import seaborn as sns\n",
    "%matplotlib inline\n",
    "\n",
    "import platform\n",
    "\n",
    "path = \"c:/Windows/Fonts/malgun.ttf\"\n",
    "from matplotlib import font_manager, rc\n",
    "if platform.system() == 'Darwin':\n",
    "    rc('font', family='AppleGothic')\n",
    "elif platform.system() == 'Windows':\n",
    "    font_name = font_manager.FontProperties(fname=path).get_name()\n",
    "    rc('font', family=font_name)\n",
    "else:\n",
    "    print('Unknown system... sorry~~~~')"
   ]
  },
  {
   "cell_type": "code",
   "execution_count": 139,
   "metadata": {},
   "outputs": [
    {
     "data": {
      "text/plain": [
       "<matplotlib.axes._subplots.AxesSubplot at 0x161d11abda0>"
      ]
     },
     "execution_count": 139,
     "metadata": {},
     "output_type": "execute_result"
    },
    {
     "data": {
      "image/png": "[encoded data removed]",
      "text/plain": [
       "<Figure size 864x576 with 1 Axes>"
      ]
     },
     "metadata": {
      "needs_background": "light"
     },
     "output_type": "display_data"
    }
   ],
   "source": [
    "stations.boxplot(column='가격', by='셀프', figsize=(12,8))"
   ]
  },
  {
   "cell_type": "markdown",
   "metadata": {},
   "source": [
    "                              <- 일반 주유소 셀프 주유소 ->"
   ]
  },
  {
   "cell_type": "code",
   "execution_count": 140,
   "metadata": {
    "scrolled": true
   },
   "outputs": [
    {
     "data": {
      "image/png": "[encoded data removed]",
      "text/plain": [
       "<Figure size 864x576 with 1 Axes>"
      ]
     },
     "metadata": {
      "needs_background": "light"
     },
     "output_type": "display_data"
    }
   ],
   "source": [
    "plt.figure(figsize=(12,8))\n",
    "sns.boxplot(x=\"상표\", y=\"가격\", hue=\"셀프\", data=stations, palette=\"Set3\")\n",
    "plt.show()"
   ]
  },
  {
   "cell_type": "code",
   "execution_count": 141,
   "metadata": {},
   "outputs": [
    {
     "data": {
      "image/png": "[encoded data removed]",
      "text/plain": [
       "<Figure size 864x576 with 1 Axes>"
      ]
     },
     "metadata": {
      "needs_background": "light"
     },
     "output_type": "display_data"
    }
   ],
   "source": [
    "plt.figure(figsize=(12,8))\n",
    "sns.boxplot(x=\"상표\", y=\"가격\", data=stations, palette=\"Set3\")\n",
    "sns.swarmplot(x=\"상표\", y=\"가격\", data=stations, color=\".6\")\n",
    "plt.show()"
   ]
  },
  {
   "cell_type": "code",
   "execution_count": 142,
   "metadata": {},
   "outputs": [
    {
     "data": {
      "image/png": "[encoded data removed]",
      "text/plain": [
       "<Figure size 864x576 with 1 Axes>"
      ]
     },
     "metadata": {
      "needs_background": "light"
     },
     "output_type": "display_data"
    }
   ],
   "source": [
    "plt.figure(figsize=(12,8))\n",
    "sns.boxplot(x=\"구\", y=\"가격\", hue=\"셀프\", data=stations, palette=\"Set3\")\n",
    "plt.show()"
   ]
  },
  {
   "cell_type": "code",
   "execution_count": 143,
   "metadata": {},
   "outputs": [
    {
     "data": {
      "image/png": "[encoded data removed]",
      "text/plain": [
       "<Figure size 864x576 with 1 Axes>"
      ]
     },
     "metadata": {
      "needs_background": "light"
     },
     "output_type": "display_data"
    }
   ],
   "source": [
    "plt.figure(figsize=(12,8))\n",
    "sns.boxplot(x=\"구\", y=\"가격\", data=stations, palette=\"Set3\")\n",
    "sns.swarmplot(x=\"구\", y=\"가격\", data=stations, color=\".6\")\n",
    "plt.show()"
   ]
  },
  {
   "cell_type": "code",
   "execution_count": 144,
   "metadata": {},
   "outputs": [],
   "source": [
    "import json\n",
    "import folium\n",
    "import googlemaps\n",
    "import warnings\n",
    "warnings.simplefilter(action = \"ignore\", category = FutureWarning)"
   ]
  },
  {
   "cell_type": "code",
   "execution_count": 145,
   "metadata": {},
   "outputs": [
    {
     "data": {
      "text/html": [
       "<div>\n",
       "<style scoped>\n",
       "    .dataframe tbody tr th:only-of-type {\n",
       "        vertical-align: middle;\n",
       "    }\n",
       "\n",
       "    .dataframe tbody tr th {\n",
       "        vertical-align: top;\n",
       "    }\n",
       "\n",
       "    .dataframe thead th {\n",
       "        text-align: right;\n",
       "    }\n",
       "</style>\n",
       "<table border=\"1\" class=\"dataframe\">\n",
       "  <thead>\n",
       "    <tr style=\"text-align: right;\">\n",
       "      <th></th>\n",
       "      <th>Oil_store</th>\n",
       "      <th>가격</th>\n",
       "      <th>상표</th>\n",
       "      <th>셀프</th>\n",
       "      <th>주소</th>\n",
       "      <th>구</th>\n",
       "    </tr>\n",
       "  </thead>\n",
       "  <tbody>\n",
       "    <tr>\n",
       "      <th>97</th>\n",
       "      <td>한솔주유소</td>\n",
       "      <td>1863.0</td>\n",
       "      <td>GS칼텍스</td>\n",
       "      <td>N</td>\n",
       "      <td>대전 대덕구 한밭대로 1036 (오정동)</td>\n",
       "      <td>대덕구</td>\n",
       "    </tr>\n",
       "    <tr>\n",
       "      <th>237</th>\n",
       "      <td>계룡주유소</td>\n",
       "      <td>1799.0</td>\n",
       "      <td>S-OIL</td>\n",
       "      <td>N</td>\n",
       "      <td>대전 유성구 현충원로 177 (갑동)</td>\n",
       "      <td>유성구</td>\n",
       "    </tr>\n",
       "    <tr>\n",
       "      <th>178</th>\n",
       "      <td>백산주유소</td>\n",
       "      <td>1799.0</td>\n",
       "      <td>SK에너지</td>\n",
       "      <td>N</td>\n",
       "      <td>대전광역시 서구  동서대로 1068 (변동)</td>\n",
       "      <td>서구</td>\n",
       "    </tr>\n",
       "    <tr>\n",
       "      <th>236</th>\n",
       "      <td>노은</td>\n",
       "      <td>1699.0</td>\n",
       "      <td>SK에너지</td>\n",
       "      <td>N</td>\n",
       "      <td>대전 유성구 노은동로 79</td>\n",
       "      <td>유성구</td>\n",
       "    </tr>\n",
       "    <tr>\n",
       "      <th>96</th>\n",
       "      <td>대전4공단</td>\n",
       "      <td>1695.0</td>\n",
       "      <td>SK에너지</td>\n",
       "      <td>N</td>\n",
       "      <td>대전 대덕구 대덕대로 1412</td>\n",
       "      <td>대덕구</td>\n",
       "    </tr>\n",
       "    <tr>\n",
       "      <th>95</th>\n",
       "      <td>맘모스주유소</td>\n",
       "      <td>1687.0</td>\n",
       "      <td>SK에너지</td>\n",
       "      <td>N</td>\n",
       "      <td>대전 대덕구 동서대로 1756 (비래동)</td>\n",
       "      <td>대덕구</td>\n",
       "    </tr>\n",
       "    <tr>\n",
       "      <th>132</th>\n",
       "      <td>동명주유소</td>\n",
       "      <td>1683.0</td>\n",
       "      <td>SK에너지</td>\n",
       "      <td>N</td>\n",
       "      <td>대전 동구 한밭대로 1239 (용전동)</td>\n",
       "      <td>동구</td>\n",
       "    </tr>\n",
       "    <tr>\n",
       "      <th>235</th>\n",
       "      <td>온천주유소</td>\n",
       "      <td>1659.0</td>\n",
       "      <td>SK에너지</td>\n",
       "      <td>N</td>\n",
       "      <td>대전 유성구 현충원로 342 (구암동)</td>\n",
       "      <td>유성구</td>\n",
       "    </tr>\n",
       "    <tr>\n",
       "      <th>234</th>\n",
       "      <td>첨단주유소</td>\n",
       "      <td>1649.0</td>\n",
       "      <td>SK에너지</td>\n",
       "      <td>N</td>\n",
       "      <td>대전 유성구 가정로 27 (신성동)</td>\n",
       "      <td>유성구</td>\n",
       "    </tr>\n",
       "    <tr>\n",
       "      <th>94</th>\n",
       "      <td>OK(구.영광)</td>\n",
       "      <td>1649.0</td>\n",
       "      <td>SK에너지</td>\n",
       "      <td>N</td>\n",
       "      <td>대전 대덕구 대전로 1312 (읍내동)</td>\n",
       "      <td>대덕구</td>\n",
       "    </tr>\n",
       "  </tbody>\n",
       "</table>\n",
       "</div>"
      ],
      "text/plain": [
       "    Oil_store      가격     상표 셀프                        주소    구\n",
       "97      한솔주유소  1863.0  GS칼텍스  N    대전 대덕구 한밭대로 1036 (오정동)  대덕구\n",
       "237     계룡주유소  1799.0  S-OIL  N      대전 유성구 현충원로 177 (갑동)  유성구\n",
       "178     백산주유소  1799.0  SK에너지  N  대전광역시 서구  동서대로 1068 (변동)   서구\n",
       "236        노은  1699.0  SK에너지  N            대전 유성구 노은동로 79  유성구\n",
       "96      대전4공단  1695.0  SK에너지  N          대전 대덕구 대덕대로 1412  대덕구\n",
       "95     맘모스주유소  1687.0  SK에너지  N    대전 대덕구 동서대로 1756 (비래동)  대덕구\n",
       "132     동명주유소  1683.0  SK에너지  N     대전 동구 한밭대로 1239 (용전동)   동구\n",
       "235     온천주유소  1659.0  SK에너지  N     대전 유성구 현충원로 342 (구암동)  유성구\n",
       "234     첨단주유소  1649.0  SK에너지  N       대전 유성구 가정로 27 (신성동)  유성구\n",
       "94   OK(구.영광)  1649.0  SK에너지  N     대전 대덕구 대전로 1312 (읍내동)  대덕구"
      ]
     },
     "execution_count": 145,
     "metadata": {},
     "output_type": "execute_result"
    }
   ],
   "source": [
    "stations.sort_values(by='가격', ascending=False).head(10)"
   ]
  },
  {
   "cell_type": "code",
   "execution_count": 146,
   "metadata": {},
   "outputs": [
    {
     "data": {
      "text/html": [
       "<div>\n",
       "<style scoped>\n",
       "    .dataframe tbody tr th:only-of-type {\n",
       "        vertical-align: middle;\n",
       "    }\n",
       "\n",
       "    .dataframe tbody tr th {\n",
       "        vertical-align: top;\n",
       "    }\n",
       "\n",
       "    .dataframe thead th {\n",
       "        text-align: right;\n",
       "    }\n",
       "</style>\n",
       "<table border=\"1\" class=\"dataframe\">\n",
       "  <thead>\n",
       "    <tr style=\"text-align: right;\">\n",
       "      <th></th>\n",
       "      <th>Oil_store</th>\n",
       "      <th>가격</th>\n",
       "      <th>상표</th>\n",
       "      <th>셀프</th>\n",
       "      <th>주소</th>\n",
       "      <th>구</th>\n",
       "    </tr>\n",
       "  </thead>\n",
       "  <tbody>\n",
       "    <tr>\n",
       "      <th>133</th>\n",
       "      <td>대림주유소</td>\n",
       "      <td>1487.0</td>\n",
       "      <td>GS칼텍스</td>\n",
       "      <td>Y</td>\n",
       "      <td>대전 서구  계백로1290 (정림동)</td>\n",
       "      <td>서구</td>\n",
       "    </tr>\n",
       "    <tr>\n",
       "      <th>134</th>\n",
       "      <td>갈마주유소</td>\n",
       "      <td>1489.0</td>\n",
       "      <td>GS칼텍스</td>\n",
       "      <td>Y</td>\n",
       "      <td>대전 서구 신갈마로 130</td>\n",
       "      <td>서구</td>\n",
       "    </tr>\n",
       "    <tr>\n",
       "      <th>135</th>\n",
       "      <td>(주)가수원하늘셀프주유소</td>\n",
       "      <td>1489.0</td>\n",
       "      <td>SK에너지</td>\n",
       "      <td>Y</td>\n",
       "      <td>대전 서구 계백로 1176 (가수원동)</td>\n",
       "      <td>서구</td>\n",
       "    </tr>\n",
       "    <tr>\n",
       "      <th>179</th>\n",
       "      <td>롯데마트 서대전점주유소</td>\n",
       "      <td>1490.0</td>\n",
       "      <td>S-OIL</td>\n",
       "      <td>Y</td>\n",
       "      <td>대전광역시 유성구  유성대로 26-37 (원내동)</td>\n",
       "      <td>유성구</td>\n",
       "    </tr>\n",
       "    <tr>\n",
       "      <th>180</th>\n",
       "      <td>관저주유소</td>\n",
       "      <td>1490.0</td>\n",
       "      <td>현대오일뱅크</td>\n",
       "      <td>Y</td>\n",
       "      <td>대전광역시 유성구 계백로 975  (원내동)</td>\n",
       "      <td>유성구</td>\n",
       "    </tr>\n",
       "    <tr>\n",
       "      <th>136</th>\n",
       "      <td>동현주유소</td>\n",
       "      <td>1491.0</td>\n",
       "      <td>S-OIL</td>\n",
       "      <td>N</td>\n",
       "      <td>대전 서구 계백로 1327 (정림동)</td>\n",
       "      <td>서구</td>\n",
       "    </tr>\n",
       "    <tr>\n",
       "      <th>137</th>\n",
       "      <td>중도석유(주)도마동주유소</td>\n",
       "      <td>1491.0</td>\n",
       "      <td>GS칼텍스</td>\n",
       "      <td>Y</td>\n",
       "      <td>대전 서구 계백로 1371 (도마동)</td>\n",
       "      <td>서구</td>\n",
       "    </tr>\n",
       "    <tr>\n",
       "      <th>181</th>\n",
       "      <td>(주)퍼스트오일</td>\n",
       "      <td>1492.0</td>\n",
       "      <td>현대오일뱅크</td>\n",
       "      <td>Y</td>\n",
       "      <td>대전 유성구  현충원로 213 (갑동)</td>\n",
       "      <td>유성구</td>\n",
       "    </tr>\n",
       "    <tr>\n",
       "      <th>138</th>\n",
       "      <td>굿모닝주유소</td>\n",
       "      <td>1493.0</td>\n",
       "      <td>현대오일뱅크</td>\n",
       "      <td>N</td>\n",
       "      <td>대전광역시 서구  계백로 1376 (도마동)</td>\n",
       "      <td>서구</td>\n",
       "    </tr>\n",
       "    <tr>\n",
       "      <th>182</th>\n",
       "      <td>계림주유소</td>\n",
       "      <td>1493.0</td>\n",
       "      <td>SK에너지</td>\n",
       "      <td>Y</td>\n",
       "      <td>대전 유성구 현충원로 201 (갑동)</td>\n",
       "      <td>유성구</td>\n",
       "    </tr>\n",
       "  </tbody>\n",
       "</table>\n",
       "</div>"
      ],
      "text/plain": [
       "         Oil_store      가격      상표 셀프                           주소    구\n",
       "133          대림주유소  1487.0   GS칼텍스  Y         대전 서구  계백로1290 (정림동)   서구\n",
       "134          갈마주유소  1489.0   GS칼텍스  Y               대전 서구 신갈마로 130   서구\n",
       "135  (주)가수원하늘셀프주유소  1489.0   SK에너지  Y        대전 서구 계백로 1176 (가수원동)   서구\n",
       "179   롯데마트 서대전점주유소  1490.0   S-OIL  Y  대전광역시 유성구  유성대로 26-37 (원내동)  유성구\n",
       "180          관저주유소  1490.0  현대오일뱅크  Y     대전광역시 유성구 계백로 975  (원내동)  유성구\n",
       "136          동현주유소  1491.0   S-OIL  N         대전 서구 계백로 1327 (정림동)   서구\n",
       "137  중도석유(주)도마동주유소  1491.0   GS칼텍스  Y         대전 서구 계백로 1371 (도마동)   서구\n",
       "181       (주)퍼스트오일  1492.0  현대오일뱅크  Y        대전 유성구  현충원로 213 (갑동)  유성구\n",
       "138         굿모닝주유소  1493.0  현대오일뱅크  N     대전광역시 서구  계백로 1376 (도마동)   서구\n",
       "182          계림주유소  1493.0   SK에너지  Y         대전 유성구 현충원로 201 (갑동)  유성구"
      ]
     },
     "execution_count": 146,
     "metadata": {},
     "output_type": "execute_result"
    }
   ],
   "source": [
    "stations.sort_values(by='가격', ascending=True).head(10)"
   ]
  },
  {
   "cell_type": "code",
   "execution_count": 147,
   "metadata": {},
   "outputs": [
    {
     "data": {
      "text/html": [
       "<div>\n",
       "<style scoped>\n",
       "    .dataframe tbody tr th:only-of-type {\n",
       "        vertical-align: middle;\n",
       "    }\n",
       "\n",
       "    .dataframe tbody tr th {\n",
       "        vertical-align: top;\n",
       "    }\n",
       "\n",
       "    .dataframe thead th {\n",
       "        text-align: right;\n",
       "    }\n",
       "</style>\n",
       "<table border=\"1\" class=\"dataframe\">\n",
       "  <thead>\n",
       "    <tr style=\"text-align: right;\">\n",
       "      <th></th>\n",
       "      <th>가격</th>\n",
       "    </tr>\n",
       "    <tr>\n",
       "      <th>구</th>\n",
       "      <th></th>\n",
       "    </tr>\n",
       "  </thead>\n",
       "  <tbody>\n",
       "    <tr>\n",
       "      <th>대덕구</th>\n",
       "      <td>1555.258621</td>\n",
       "    </tr>\n",
       "    <tr>\n",
       "      <th>동구</th>\n",
       "      <td>1531.342857</td>\n",
       "    </tr>\n",
       "    <tr>\n",
       "      <th>서구</th>\n",
       "      <td>1545.760870</td>\n",
       "    </tr>\n",
       "    <tr>\n",
       "      <th>유성구</th>\n",
       "      <td>1541.813559</td>\n",
       "    </tr>\n",
       "    <tr>\n",
       "      <th>중구</th>\n",
       "      <td>1532.125000</td>\n",
       "    </tr>\n",
       "  </tbody>\n",
       "</table>\n",
       "</div>"
      ],
      "text/plain": [
       "              가격\n",
       "구               \n",
       "대덕구  1555.258621\n",
       "동구   1531.342857\n",
       "서구   1545.760870\n",
       "유성구  1541.813559\n",
       "중구   1532.125000"
      ]
     },
     "execution_count": 147,
     "metadata": {},
     "output_type": "execute_result"
    }
   ],
   "source": [
    "import numpy as np\n",
    "gu_data = pd.pivot_table(stations, index=[\"구\"], values=[\"가격\"], aggfunc=np.mean)\n",
    "gu_data.head()"
   ]
  },
  {
   "cell_type": "code",
   "execution_count": 148,
   "metadata": {},
   "outputs": [
    {
     "data": {
      "text/html": [
       "<div style=\"width:100%;\"><div style=\"position:relative;width:100%;height:0;padding-bottom:60%;\"><iframe src=\"data:text/html;charset=utf-8;base64,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\" style=\"position:absolute;width:100%;height:100%;left:0;top:0;border:none !important;\" allowfullscreen webkitallowfullscreen mozallowfullscreen></iframe></div></div>"
      ],
      "text/plain": [
       "<folium.folium.Map at 0x161d25ef400>"
      ]
     },
     "execution_count": 148,
     "metadata": {},
     "output_type": "execute_result"
    }
   ],
   "source": [
    "map = folium.Map(location=[36.35111,127.43500], zoom_start=10.5)\n",
    "map"
   ]
  },
  {
   "cell_type": "markdown",
   "metadata": {},
   "source": [
    "# 대전시 주유 가격 상하위 10개 주유소"
   ]
  },
  {
   "cell_type": "code",
   "execution_count": 149,
   "metadata": {},
   "outputs": [
    {
     "data": {
      "text/html": [
       "<div>\n",
       "<style scoped>\n",
       "    .dataframe tbody tr th:only-of-type {\n",
       "        vertical-align: middle;\n",
       "    }\n",
       "\n",
       "    .dataframe tbody tr th {\n",
       "        vertical-align: top;\n",
       "    }\n",
       "\n",
       "    .dataframe thead th {\n",
       "        text-align: right;\n",
       "    }\n",
       "</style>\n",
       "<table border=\"1\" class=\"dataframe\">\n",
       "  <thead>\n",
       "    <tr style=\"text-align: right;\">\n",
       "      <th></th>\n",
       "      <th>Oil_store</th>\n",
       "      <th>가격</th>\n",
       "      <th>상표</th>\n",
       "      <th>셀프</th>\n",
       "      <th>주소</th>\n",
       "      <th>구</th>\n",
       "    </tr>\n",
       "  </thead>\n",
       "  <tbody>\n",
       "    <tr>\n",
       "      <th>97</th>\n",
       "      <td>한솔주유소</td>\n",
       "      <td>1863.0</td>\n",
       "      <td>GS칼텍스</td>\n",
       "      <td>N</td>\n",
       "      <td>대전 대덕구 한밭대로 1036 (오정동)</td>\n",
       "      <td>대덕구</td>\n",
       "    </tr>\n",
       "    <tr>\n",
       "      <th>237</th>\n",
       "      <td>계룡주유소</td>\n",
       "      <td>1799.0</td>\n",
       "      <td>S-OIL</td>\n",
       "      <td>N</td>\n",
       "      <td>대전 유성구 현충원로 177 (갑동)</td>\n",
       "      <td>유성구</td>\n",
       "    </tr>\n",
       "    <tr>\n",
       "      <th>178</th>\n",
       "      <td>백산주유소</td>\n",
       "      <td>1799.0</td>\n",
       "      <td>SK에너지</td>\n",
       "      <td>N</td>\n",
       "      <td>대전광역시 서구  동서대로 1068 (변동)</td>\n",
       "      <td>서구</td>\n",
       "    </tr>\n",
       "    <tr>\n",
       "      <th>236</th>\n",
       "      <td>노은</td>\n",
       "      <td>1699.0</td>\n",
       "      <td>SK에너지</td>\n",
       "      <td>N</td>\n",
       "      <td>대전 유성구 노은동로 79</td>\n",
       "      <td>유성구</td>\n",
       "    </tr>\n",
       "    <tr>\n",
       "      <th>96</th>\n",
       "      <td>대전4공단</td>\n",
       "      <td>1695.0</td>\n",
       "      <td>SK에너지</td>\n",
       "      <td>N</td>\n",
       "      <td>대전 대덕구 대덕대로 1412</td>\n",
       "      <td>대덕구</td>\n",
       "    </tr>\n",
       "    <tr>\n",
       "      <th>95</th>\n",
       "      <td>맘모스주유소</td>\n",
       "      <td>1687.0</td>\n",
       "      <td>SK에너지</td>\n",
       "      <td>N</td>\n",
       "      <td>대전 대덕구 동서대로 1756 (비래동)</td>\n",
       "      <td>대덕구</td>\n",
       "    </tr>\n",
       "    <tr>\n",
       "      <th>132</th>\n",
       "      <td>동명주유소</td>\n",
       "      <td>1683.0</td>\n",
       "      <td>SK에너지</td>\n",
       "      <td>N</td>\n",
       "      <td>대전 동구 한밭대로 1239 (용전동)</td>\n",
       "      <td>동구</td>\n",
       "    </tr>\n",
       "    <tr>\n",
       "      <th>235</th>\n",
       "      <td>온천주유소</td>\n",
       "      <td>1659.0</td>\n",
       "      <td>SK에너지</td>\n",
       "      <td>N</td>\n",
       "      <td>대전 유성구 현충원로 342 (구암동)</td>\n",
       "      <td>유성구</td>\n",
       "    </tr>\n",
       "    <tr>\n",
       "      <th>234</th>\n",
       "      <td>첨단주유소</td>\n",
       "      <td>1649.0</td>\n",
       "      <td>SK에너지</td>\n",
       "      <td>N</td>\n",
       "      <td>대전 유성구 가정로 27 (신성동)</td>\n",
       "      <td>유성구</td>\n",
       "    </tr>\n",
       "    <tr>\n",
       "      <th>94</th>\n",
       "      <td>OK(구.영광)</td>\n",
       "      <td>1649.0</td>\n",
       "      <td>SK에너지</td>\n",
       "      <td>N</td>\n",
       "      <td>대전 대덕구 대전로 1312 (읍내동)</td>\n",
       "      <td>대덕구</td>\n",
       "    </tr>\n",
       "  </tbody>\n",
       "</table>\n",
       "</div>"
      ],
      "text/plain": [
       "    Oil_store      가격     상표 셀프                        주소    구\n",
       "97      한솔주유소  1863.0  GS칼텍스  N    대전 대덕구 한밭대로 1036 (오정동)  대덕구\n",
       "237     계룡주유소  1799.0  S-OIL  N      대전 유성구 현충원로 177 (갑동)  유성구\n",
       "178     백산주유소  1799.0  SK에너지  N  대전광역시 서구  동서대로 1068 (변동)   서구\n",
       "236        노은  1699.0  SK에너지  N            대전 유성구 노은동로 79  유성구\n",
       "96      대전4공단  1695.0  SK에너지  N          대전 대덕구 대덕대로 1412  대덕구\n",
       "95     맘모스주유소  1687.0  SK에너지  N    대전 대덕구 동서대로 1756 (비래동)  대덕구\n",
       "132     동명주유소  1683.0  SK에너지  N     대전 동구 한밭대로 1239 (용전동)   동구\n",
       "235     온천주유소  1659.0  SK에너지  N     대전 유성구 현충원로 342 (구암동)  유성구\n",
       "234     첨단주유소  1649.0  SK에너지  N       대전 유성구 가정로 27 (신성동)  유성구\n",
       "94   OK(구.영광)  1649.0  SK에너지  N     대전 대덕구 대전로 1312 (읍내동)  대덕구"
      ]
     },
     "execution_count": 149,
     "metadata": {},
     "output_type": "execute_result"
    }
   ],
   "source": [
    "oil_price_top10 = stations.sort_values(by='가격', ascending=False).head(10)\n",
    "oil_price_top10"
   ]
  },
  {
   "cell_type": "code",
   "execution_count": 150,
   "metadata": {},
   "outputs": [
    {
     "data": {
      "text/html": [
       "<div>\n",
       "<style scoped>\n",
       "    .dataframe tbody tr th:only-of-type {\n",
       "        vertical-align: middle;\n",
       "    }\n",
       "\n",
       "    .dataframe tbody tr th {\n",
       "        vertical-align: top;\n",
       "    }\n",
       "\n",
       "    .dataframe thead th {\n",
       "        text-align: right;\n",
       "    }\n",
       "</style>\n",
       "<table border=\"1\" class=\"dataframe\">\n",
       "  <thead>\n",
       "    <tr style=\"text-align: right;\">\n",
       "      <th></th>\n",
       "      <th>Oil_store</th>\n",
       "      <th>가격</th>\n",
       "      <th>상표</th>\n",
       "      <th>셀프</th>\n",
       "      <th>주소</th>\n",
       "      <th>구</th>\n",
       "    </tr>\n",
       "  </thead>\n",
       "  <tbody>\n",
       "    <tr>\n",
       "      <th>133</th>\n",
       "      <td>대림주유소</td>\n",
       "      <td>1487.0</td>\n",
       "      <td>GS칼텍스</td>\n",
       "      <td>Y</td>\n",
       "      <td>대전 서구  계백로1290 (정림동)</td>\n",
       "      <td>서구</td>\n",
       "    </tr>\n",
       "    <tr>\n",
       "      <th>134</th>\n",
       "      <td>갈마주유소</td>\n",
       "      <td>1489.0</td>\n",
       "      <td>GS칼텍스</td>\n",
       "      <td>Y</td>\n",
       "      <td>대전 서구 신갈마로 130</td>\n",
       "      <td>서구</td>\n",
       "    </tr>\n",
       "    <tr>\n",
       "      <th>135</th>\n",
       "      <td>(주)가수원하늘셀프주유소</td>\n",
       "      <td>1489.0</td>\n",
       "      <td>SK에너지</td>\n",
       "      <td>Y</td>\n",
       "      <td>대전 서구 계백로 1176 (가수원동)</td>\n",
       "      <td>서구</td>\n",
       "    </tr>\n",
       "    <tr>\n",
       "      <th>179</th>\n",
       "      <td>롯데마트 서대전점주유소</td>\n",
       "      <td>1490.0</td>\n",
       "      <td>S-OIL</td>\n",
       "      <td>Y</td>\n",
       "      <td>대전광역시 유성구  유성대로 26-37 (원내동)</td>\n",
       "      <td>유성구</td>\n",
       "    </tr>\n",
       "    <tr>\n",
       "      <th>180</th>\n",
       "      <td>관저주유소</td>\n",
       "      <td>1490.0</td>\n",
       "      <td>현대오일뱅크</td>\n",
       "      <td>Y</td>\n",
       "      <td>대전광역시 유성구 계백로 975  (원내동)</td>\n",
       "      <td>유성구</td>\n",
       "    </tr>\n",
       "    <tr>\n",
       "      <th>136</th>\n",
       "      <td>동현주유소</td>\n",
       "      <td>1491.0</td>\n",
       "      <td>S-OIL</td>\n",
       "      <td>N</td>\n",
       "      <td>대전 서구 계백로 1327 (정림동)</td>\n",
       "      <td>서구</td>\n",
       "    </tr>\n",
       "    <tr>\n",
       "      <th>137</th>\n",
       "      <td>중도석유(주)도마동주유소</td>\n",
       "      <td>1491.0</td>\n",
       "      <td>GS칼텍스</td>\n",
       "      <td>Y</td>\n",
       "      <td>대전 서구 계백로 1371 (도마동)</td>\n",
       "      <td>서구</td>\n",
       "    </tr>\n",
       "    <tr>\n",
       "      <th>181</th>\n",
       "      <td>(주)퍼스트오일</td>\n",
       "      <td>1492.0</td>\n",
       "      <td>현대오일뱅크</td>\n",
       "      <td>Y</td>\n",
       "      <td>대전 유성구  현충원로 213 (갑동)</td>\n",
       "      <td>유성구</td>\n",
       "    </tr>\n",
       "    <tr>\n",
       "      <th>138</th>\n",
       "      <td>굿모닝주유소</td>\n",
       "      <td>1493.0</td>\n",
       "      <td>현대오일뱅크</td>\n",
       "      <td>N</td>\n",
       "      <td>대전광역시 서구  계백로 1376 (도마동)</td>\n",
       "      <td>서구</td>\n",
       "    </tr>\n",
       "    <tr>\n",
       "      <th>182</th>\n",
       "      <td>계림주유소</td>\n",
       "      <td>1493.0</td>\n",
       "      <td>SK에너지</td>\n",
       "      <td>Y</td>\n",
       "      <td>대전 유성구 현충원로 201 (갑동)</td>\n",
       "      <td>유성구</td>\n",
       "    </tr>\n",
       "  </tbody>\n",
       "</table>\n",
       "</div>"
      ],
      "text/plain": [
       "         Oil_store      가격      상표 셀프                           주소    구\n",
       "133          대림주유소  1487.0   GS칼텍스  Y         대전 서구  계백로1290 (정림동)   서구\n",
       "134          갈마주유소  1489.0   GS칼텍스  Y               대전 서구 신갈마로 130   서구\n",
       "135  (주)가수원하늘셀프주유소  1489.0   SK에너지  Y        대전 서구 계백로 1176 (가수원동)   서구\n",
       "179   롯데마트 서대전점주유소  1490.0   S-OIL  Y  대전광역시 유성구  유성대로 26-37 (원내동)  유성구\n",
       "180          관저주유소  1490.0  현대오일뱅크  Y     대전광역시 유성구 계백로 975  (원내동)  유성구\n",
       "136          동현주유소  1491.0   S-OIL  N         대전 서구 계백로 1327 (정림동)   서구\n",
       "137  중도석유(주)도마동주유소  1491.0   GS칼텍스  Y         대전 서구 계백로 1371 (도마동)   서구\n",
       "181       (주)퍼스트오일  1492.0  현대오일뱅크  Y        대전 유성구  현충원로 213 (갑동)  유성구\n",
       "138         굿모닝주유소  1493.0  현대오일뱅크  N     대전광역시 서구  계백로 1376 (도마동)   서구\n",
       "182          계림주유소  1493.0   SK에너지  Y         대전 유성구 현충원로 201 (갑동)  유성구"
      ]
     },
     "execution_count": 150,
     "metadata": {},
     "output_type": "execute_result"
    }
   ],
   "source": [
    "oil_price_bottom10 = stations.sort_values(by='가격', ascending=True).head(10)\n",
    "oil_price_bottom10"
   ]
  },
  {
   "cell_type": "code",
   "execution_count": 151,
   "metadata": {},
   "outputs": [],
   "source": [
    "gmaps_key = \"\"\n",
    "gmaps = googlemaps.Client(key=gmaps_key)"
   ]
  },
  {
   "cell_type": "code",
   "execution_count": 152,
   "metadata": {
    "scrolled": true
   },
   "outputs": [
    {
     "data": {
      "application/vnd.jupyter.widget-view+json": {
       "model_id": "1a8643591ef8463e97db4cc45c6112e1",
       "version_major": 2,
       "version_minor": 0
      },
      "text/plain": [
       "HBox(children=(IntProgress(value=0, max=10), HTML(value='')))"
      ]
     },
     "metadata": {},
     "output_type": "display_data"
    },
    {
     "name": "stdout",
     "output_type": "stream",
     "text": [
      "\n"
     ]
    },
    {
     "data": {
      "text/html": [
       "<div>\n",
       "<style scoped>\n",
       "    .dataframe tbody tr th:only-of-type {\n",
       "        vertical-align: middle;\n",
       "    }\n",
       "\n",
       "    .dataframe tbody tr th {\n",
       "        vertical-align: top;\n",
       "    }\n",
       "\n",
       "    .dataframe thead th {\n",
       "        text-align: right;\n",
       "    }\n",
       "</style>\n",
       "<table border=\"1\" class=\"dataframe\">\n",
       "  <thead>\n",
       "    <tr style=\"text-align: right;\">\n",
       "      <th></th>\n",
       "      <th>Oil_store</th>\n",
       "      <th>가격</th>\n",
       "      <th>상표</th>\n",
       "      <th>셀프</th>\n",
       "      <th>주소</th>\n",
       "      <th>구</th>\n",
       "      <th>lat</th>\n",
       "      <th>lng</th>\n",
       "    </tr>\n",
       "  </thead>\n",
       "  <tbody>\n",
       "    <tr>\n",
       "      <th>97</th>\n",
       "      <td>한솔주유소</td>\n",
       "      <td>1863.0</td>\n",
       "      <td>GS칼텍스</td>\n",
       "      <td>N</td>\n",
       "      <td>대전 대덕구 한밭대로 1036 (오정동)</td>\n",
       "      <td>대덕구</td>\n",
       "      <td>36.357226</td>\n",
       "      <td>127.413666</td>\n",
       "    </tr>\n",
       "    <tr>\n",
       "      <th>237</th>\n",
       "      <td>계룡주유소</td>\n",
       "      <td>1799.0</td>\n",
       "      <td>S-OIL</td>\n",
       "      <td>N</td>\n",
       "      <td>대전 유성구 현충원로 177 (갑동)</td>\n",
       "      <td>유성구</td>\n",
       "      <td>36.360484</td>\n",
       "      <td>127.291032</td>\n",
       "    </tr>\n",
       "    <tr>\n",
       "      <th>178</th>\n",
       "      <td>백산주유소</td>\n",
       "      <td>1799.0</td>\n",
       "      <td>SK에너지</td>\n",
       "      <td>N</td>\n",
       "      <td>대전광역시 서구  동서대로 1068 (변동)</td>\n",
       "      <td>서구</td>\n",
       "      <td>36.329322</td>\n",
       "      <td>127.379376</td>\n",
       "    </tr>\n",
       "    <tr>\n",
       "      <th>236</th>\n",
       "      <td>노은</td>\n",
       "      <td>1699.0</td>\n",
       "      <td>SK에너지</td>\n",
       "      <td>N</td>\n",
       "      <td>대전 유성구 노은동로 79</td>\n",
       "      <td>유성구</td>\n",
       "      <td>36.367684</td>\n",
       "      <td>127.320970</td>\n",
       "    </tr>\n",
       "    <tr>\n",
       "      <th>96</th>\n",
       "      <td>대전4공단</td>\n",
       "      <td>1695.0</td>\n",
       "      <td>SK에너지</td>\n",
       "      <td>N</td>\n",
       "      <td>대전 대덕구 대덕대로 1412</td>\n",
       "      <td>대덕구</td>\n",
       "      <td>36.445813</td>\n",
       "      <td>127.406786</td>\n",
       "    </tr>\n",
       "    <tr>\n",
       "      <th>95</th>\n",
       "      <td>맘모스주유소</td>\n",
       "      <td>1687.0</td>\n",
       "      <td>SK에너지</td>\n",
       "      <td>N</td>\n",
       "      <td>대전 대덕구 동서대로 1756 (비래동)</td>\n",
       "      <td>대덕구</td>\n",
       "      <td>36.352336</td>\n",
       "      <td>127.443365</td>\n",
       "    </tr>\n",
       "    <tr>\n",
       "      <th>132</th>\n",
       "      <td>동명주유소</td>\n",
       "      <td>1683.0</td>\n",
       "      <td>SK에너지</td>\n",
       "      <td>N</td>\n",
       "      <td>대전 동구 한밭대로 1239 (용전동)</td>\n",
       "      <td>동구</td>\n",
       "      <td>36.357172</td>\n",
       "      <td>127.435497</td>\n",
       "    </tr>\n",
       "    <tr>\n",
       "      <th>235</th>\n",
       "      <td>온천주유소</td>\n",
       "      <td>1659.0</td>\n",
       "      <td>SK에너지</td>\n",
       "      <td>N</td>\n",
       "      <td>대전 유성구 현충원로 342 (구암동)</td>\n",
       "      <td>유성구</td>\n",
       "      <td>36.359076</td>\n",
       "      <td>127.308550</td>\n",
       "    </tr>\n",
       "    <tr>\n",
       "      <th>234</th>\n",
       "      <td>첨단주유소</td>\n",
       "      <td>1649.0</td>\n",
       "      <td>SK에너지</td>\n",
       "      <td>N</td>\n",
       "      <td>대전 유성구 가정로 27 (신성동)</td>\n",
       "      <td>유성구</td>\n",
       "      <td>36.384548</td>\n",
       "      <td>127.346402</td>\n",
       "    </tr>\n",
       "    <tr>\n",
       "      <th>94</th>\n",
       "      <td>OK(구.영광)</td>\n",
       "      <td>1649.0</td>\n",
       "      <td>SK에너지</td>\n",
       "      <td>N</td>\n",
       "      <td>대전 대덕구 대전로 1312 (읍내동)</td>\n",
       "      <td>대덕구</td>\n",
       "      <td>36.370840</td>\n",
       "      <td>127.420763</td>\n",
       "    </tr>\n",
       "  </tbody>\n",
       "</table>\n",
       "</div>"
      ],
      "text/plain": [
       "    Oil_store      가격     상표 셀프                        주소    구        lat  \\\n",
       "97      한솔주유소  1863.0  GS칼텍스  N    대전 대덕구 한밭대로 1036 (오정동)  대덕구  36.357226   \n",
       "237     계룡주유소  1799.0  S-OIL  N      대전 유성구 현충원로 177 (갑동)  유성구  36.360484   \n",
       "178     백산주유소  1799.0  SK에너지  N  대전광역시 서구  동서대로 1068 (변동)   서구  36.329322   \n",
       "236        노은  1699.0  SK에너지  N            대전 유성구 노은동로 79  유성구  36.367684   \n",
       "96      대전4공단  1695.0  SK에너지  N          대전 대덕구 대덕대로 1412  대덕구  36.445813   \n",
       "95     맘모스주유소  1687.0  SK에너지  N    대전 대덕구 동서대로 1756 (비래동)  대덕구  36.352336   \n",
       "132     동명주유소  1683.0  SK에너지  N     대전 동구 한밭대로 1239 (용전동)   동구  36.357172   \n",
       "235     온천주유소  1659.0  SK에너지  N     대전 유성구 현충원로 342 (구암동)  유성구  36.359076   \n",
       "234     첨단주유소  1649.0  SK에너지  N       대전 유성구 가정로 27 (신성동)  유성구  36.384548   \n",
       "94   OK(구.영광)  1649.0  SK에너지  N     대전 대덕구 대전로 1312 (읍내동)  대덕구  36.370840   \n",
       "\n",
       "            lng  \n",
       "97   127.413666  \n",
       "237  127.291032  \n",
       "178  127.379376  \n",
       "236  127.320970  \n",
       "96   127.406786  \n",
       "95   127.443365  \n",
       "132  127.435497  \n",
       "235  127.308550  \n",
       "234  127.346402  \n",
       "94   127.420763  "
      ]
     },
     "execution_count": 152,
     "metadata": {},
     "output_type": "execute_result"
    }
   ],
   "source": [
    "from tqdm import tqdm_notebook\n",
    "\n",
    "lat = []\n",
    "lng = []\n",
    "\n",
    "for n in tqdm_notebook(oil_price_top10.index):\n",
    "    try:\n",
    "        tmp_add = str(oil_price_top10['주소'][n]).split('(')[0]\n",
    "        tmp_map = gmaps.geocode(tmp_add)\n",
    "        \n",
    "        tmp_loc = tmp_map[0].get('geometry')\n",
    "        lat.append(tmp_loc['location']['lat'])\n",
    "        lng.append(tmp_loc['location']['lng'])\n",
    "        \n",
    "    except:\n",
    "        lat.append(np.nan)\n",
    "        lng.append(np.nan)\n",
    "        print(\"Here is nan !\")\n",
    "        \n",
    "oil_price_top10['lat'] = lat\n",
    "oil_price_top10['lng'] = lng\n",
    "oil_price_top10"
   ]
  },
  {
   "cell_type": "code",
   "execution_count": 153,
   "metadata": {},
   "outputs": [
    {
     "data": {
      "application/vnd.jupyter.widget-view+json": {
       "model_id": "2c4b62b6c54c43e4be480153eb72b34b",
       "version_major": 2,
       "version_minor": 0
      },
      "text/plain": [
       "HBox(children=(IntProgress(value=0, max=10), HTML(value='')))"
      ]
     },
     "metadata": {},
     "output_type": "display_data"
    },
    {
     "name": "stdout",
     "output_type": "stream",
     "text": [
      "\n"
     ]
    },
    {
     "data": {
      "text/html": [
       "<div>\n",
       "<style scoped>\n",
       "    .dataframe tbody tr th:only-of-type {\n",
       "        vertical-align: middle;\n",
       "    }\n",
       "\n",
       "    .dataframe tbody tr th {\n",
       "        vertical-align: top;\n",
       "    }\n",
       "\n",
       "    .dataframe thead th {\n",
       "        text-align: right;\n",
       "    }\n",
       "</style>\n",
       "<table border=\"1\" class=\"dataframe\">\n",
       "  <thead>\n",
       "    <tr style=\"text-align: right;\">\n",
       "      <th></th>\n",
       "      <th>Oil_store</th>\n",
       "      <th>가격</th>\n",
       "      <th>상표</th>\n",
       "      <th>셀프</th>\n",
       "      <th>주소</th>\n",
       "      <th>구</th>\n",
       "      <th>lat</th>\n",
       "      <th>lng</th>\n",
       "    </tr>\n",
       "  </thead>\n",
       "  <tbody>\n",
       "    <tr>\n",
       "      <th>133</th>\n",
       "      <td>대림주유소</td>\n",
       "      <td>1487.0</td>\n",
       "      <td>GS칼텍스</td>\n",
       "      <td>Y</td>\n",
       "      <td>대전 서구  계백로1290 (정림동)</td>\n",
       "      <td>서구</td>\n",
       "      <td>36.307786</td>\n",
       "      <td>127.366271</td>\n",
       "    </tr>\n",
       "    <tr>\n",
       "      <th>134</th>\n",
       "      <td>갈마주유소</td>\n",
       "      <td>1489.0</td>\n",
       "      <td>GS칼텍스</td>\n",
       "      <td>Y</td>\n",
       "      <td>대전 서구 신갈마로 130</td>\n",
       "      <td>서구</td>\n",
       "      <td>36.345155</td>\n",
       "      <td>127.368787</td>\n",
       "    </tr>\n",
       "    <tr>\n",
       "      <th>135</th>\n",
       "      <td>(주)가수원하늘셀프주유소</td>\n",
       "      <td>1489.0</td>\n",
       "      <td>SK에너지</td>\n",
       "      <td>Y</td>\n",
       "      <td>대전 서구 계백로 1176 (가수원동)</td>\n",
       "      <td>서구</td>\n",
       "      <td>36.304958</td>\n",
       "      <td>127.354233</td>\n",
       "    </tr>\n",
       "    <tr>\n",
       "      <th>179</th>\n",
       "      <td>롯데마트 서대전점주유소</td>\n",
       "      <td>1490.0</td>\n",
       "      <td>S-OIL</td>\n",
       "      <td>Y</td>\n",
       "      <td>대전광역시 유성구  유성대로 26-37 (원내동)</td>\n",
       "      <td>유성구</td>\n",
       "      <td>36.300484</td>\n",
       "      <td>127.324834</td>\n",
       "    </tr>\n",
       "    <tr>\n",
       "      <th>180</th>\n",
       "      <td>관저주유소</td>\n",
       "      <td>1490.0</td>\n",
       "      <td>현대오일뱅크</td>\n",
       "      <td>Y</td>\n",
       "      <td>대전광역시 유성구 계백로 975  (원내동)</td>\n",
       "      <td>유성구</td>\n",
       "      <td>36.301928</td>\n",
       "      <td>127.332011</td>\n",
       "    </tr>\n",
       "    <tr>\n",
       "      <th>136</th>\n",
       "      <td>동현주유소</td>\n",
       "      <td>1491.0</td>\n",
       "      <td>S-OIL</td>\n",
       "      <td>N</td>\n",
       "      <td>대전 서구 계백로 1327 (정림동)</td>\n",
       "      <td>서구</td>\n",
       "      <td>36.309715</td>\n",
       "      <td>127.369623</td>\n",
       "    </tr>\n",
       "    <tr>\n",
       "      <th>137</th>\n",
       "      <td>중도석유(주)도마동주유소</td>\n",
       "      <td>1491.0</td>\n",
       "      <td>GS칼텍스</td>\n",
       "      <td>Y</td>\n",
       "      <td>대전 서구 계백로 1371 (도마동)</td>\n",
       "      <td>서구</td>\n",
       "      <td>36.310892</td>\n",
       "      <td>127.374258</td>\n",
       "    </tr>\n",
       "    <tr>\n",
       "      <th>181</th>\n",
       "      <td>(주)퍼스트오일</td>\n",
       "      <td>1492.0</td>\n",
       "      <td>현대오일뱅크</td>\n",
       "      <td>Y</td>\n",
       "      <td>대전 유성구  현충원로 213 (갑동)</td>\n",
       "      <td>유성구</td>\n",
       "      <td>36.360531</td>\n",
       "      <td>127.294733</td>\n",
       "    </tr>\n",
       "    <tr>\n",
       "      <th>138</th>\n",
       "      <td>굿모닝주유소</td>\n",
       "      <td>1493.0</td>\n",
       "      <td>현대오일뱅크</td>\n",
       "      <td>N</td>\n",
       "      <td>대전광역시 서구  계백로 1376 (도마동)</td>\n",
       "      <td>서구</td>\n",
       "      <td>36.310523</td>\n",
       "      <td>127.375077</td>\n",
       "    </tr>\n",
       "    <tr>\n",
       "      <th>182</th>\n",
       "      <td>계림주유소</td>\n",
       "      <td>1493.0</td>\n",
       "      <td>SK에너지</td>\n",
       "      <td>Y</td>\n",
       "      <td>대전 유성구 현충원로 201 (갑동)</td>\n",
       "      <td>유성구</td>\n",
       "      <td>36.360441</td>\n",
       "      <td>127.293352</td>\n",
       "    </tr>\n",
       "  </tbody>\n",
       "</table>\n",
       "</div>"
      ],
      "text/plain": [
       "         Oil_store      가격      상표 셀프                           주소    구  \\\n",
       "133          대림주유소  1487.0   GS칼텍스  Y         대전 서구  계백로1290 (정림동)   서구   \n",
       "134          갈마주유소  1489.0   GS칼텍스  Y               대전 서구 신갈마로 130   서구   \n",
       "135  (주)가수원하늘셀프주유소  1489.0   SK에너지  Y        대전 서구 계백로 1176 (가수원동)   서구   \n",
       "179   롯데마트 서대전점주유소  1490.0   S-OIL  Y  대전광역시 유성구  유성대로 26-37 (원내동)  유성구   \n",
       "180          관저주유소  1490.0  현대오일뱅크  Y     대전광역시 유성구 계백로 975  (원내동)  유성구   \n",
       "136          동현주유소  1491.0   S-OIL  N         대전 서구 계백로 1327 (정림동)   서구   \n",
       "137  중도석유(주)도마동주유소  1491.0   GS칼텍스  Y         대전 서구 계백로 1371 (도마동)   서구   \n",
       "181       (주)퍼스트오일  1492.0  현대오일뱅크  Y        대전 유성구  현충원로 213 (갑동)  유성구   \n",
       "138         굿모닝주유소  1493.0  현대오일뱅크  N     대전광역시 서구  계백로 1376 (도마동)   서구   \n",
       "182          계림주유소  1493.0   SK에너지  Y         대전 유성구 현충원로 201 (갑동)  유성구   \n",
       "\n",
       "           lat         lng  \n",
       "133  36.307786  127.366271  \n",
       "134  36.345155  127.368787  \n",
       "135  36.304958  127.354233  \n",
       "179  36.300484  127.324834  \n",
       "180  36.301928  127.332011  \n",
       "136  36.309715  127.369623  \n",
       "137  36.310892  127.374258  \n",
       "181  36.360531  127.294733  \n",
       "138  36.310523  127.375077  \n",
       "182  36.360441  127.293352  "
      ]
     },
     "execution_count": 153,
     "metadata": {},
     "output_type": "execute_result"
    }
   ],
   "source": [
    "lat = []\n",
    "lng = []\n",
    "\n",
    "for n in tqdm_notebook(oil_price_bottom10.index):\n",
    "    try:\n",
    "        tmp_add = oil_price_bottom10['주소'][n].split('(')[0]\n",
    "        tmp_map = gmaps.geocode(tmp_add)\n",
    "        \n",
    "        tmp_loc = tmp_map[0].get('geometry')\n",
    "        lat.append(tmp_loc['location']['lat'])\n",
    "        lng.append(tmp_loc['location']['lng'])\n",
    "        \n",
    "    except:\n",
    "        lat.append(np.nan)\n",
    "        lng.append(np.nan)\n",
    "        print(\"Here is nan !\")\n",
    "        \n",
    "oil_price_bottom10['lat'] = lat\n",
    "oil_price_bottom10['lng'] = lng\n",
    "oil_price_bottom10"
   ]
  },
  {
   "cell_type": "code",
   "execution_count": 171,
   "metadata": {},
   "outputs": [
    {
     "data": {
      "text/html": [
       "<div style=\"width:100%;\"><div style=\"position:relative;width:100%;height:0;padding-bottom:60%;\"><iframe src=\"data:text/html;charset=utf-8;base64,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\" style=\"position:absolute;width:100%;height:100%;left:0;top:0;border:none !important;\" allowfullscreen webkitallowfullscreen mozallowfullscreen></iframe></div></div>"
      ],
      "text/plain": [
       "<folium.folium.Map at 0x161d3e0e5c0>"
      ]
     },
     "execution_count": 171,
     "metadata": {},
     "output_type": "execute_result"
    }
   ],
   "source": [
    "map = folium.Map(location=[36.35111,127.43500], zoom_start=10.5)\n",
    "\n",
    "for n in oil_price_top10.index:\n",
    "    if pd.notnull(oil_price_top10['lat'][n]):\n",
    "        folium.CircleMarker([oil_price_top10['lat'][n], oil_price_top10['lng'][n]],\n",
    "                           radius=15, color='#CD3181', fill_color='#CD3181').add_to(map)\n",
    "        \n",
    "for n in oil_price_bottom10.index:\n",
    "   \n",
    "    if pd.notnull(oil_price_bottom10['lat'][n]):\n",
    "        folium.CircleMarker([oil_price_bottom10['lat'][n], oil_price_bottom10['lng'][n]],\n",
    "                           radius=15, color='#3186cc', fill_color='#3181cc').add_to(map)\n",
    "        \n",
    "map"
   ]
  },
  {
   "cell_type": "code",
   "execution_count": 181,
   "metadata": {},
   "outputs": [
    {
     "data": {
      "image/png": "[encoded data removed]",
      "text/plain": [
       "<Figure size 864x576 with 1 Axes>"
      ]
     },
     "metadata": {
      "needs_background": "light"
     },
     "output_type": "display_data"
    }
   ],
   "source": [
    "plt.figure(figsize=(12,8))\n",
    "sns.swarmplot(x=\"구\", y=\"가격\", data=oil_price_top10, color=\".6\")\n",
    "plt.show()"
   ]
  },
  {
   "cell_type": "code",
   "execution_count": 182,
   "metadata": {},
   "outputs": [
    {
     "data": {
      "image/png": "[encoded data removed]",
      "text/plain": [
       "<Figure size 864x576 with 1 Axes>"
      ]
     },
     "metadata": {
      "needs_background": "light"
     },
     "output_type": "display_data"
    }
   ],
   "source": [
    "plt.figure(figsize=(12,8))\n",
    "sns.swarmplot(x=\"구\", y=\"가격\", data=oil_price_bottom10, color=\".6\")\n",
    "plt.show()"
   ]
  },
  {
   "cell_type": "code",
   "execution_count": null,
   "metadata": {},
   "outputs": [],
   "source": []
  }
 ],
 "metadata": {
  "kernelspec": {
   "display_name": "Python 3",
   "language": "python",
   "name": "python3"
  },
  "language_info": {
   "codemirror_mode": {
    "name": "ipython",
    "version": 3
   },
   "file_extension": ".py",
   "mimetype": "text/x-python",
   "name": "python",
   "nbconvert_exporter": "python",
   "pygments_lexer": "ipython3",
   "version": "3.7.3"
  },
  "toc": {
   "base_numbering": 1,
   "nav_menu": {},
   "number_sections": true,
   "sideBar": true,
   "skip_h1_title": false,
   "title_cell": "Table of Contents",
   "title_sidebar": "Contents",
   "toc_cell": false,
   "toc_position": {},
   "toc_section_display": true,
   "toc_window_display": false
  }
 },
 "nbformat": 4,
 "nbformat_minor": 2
}
